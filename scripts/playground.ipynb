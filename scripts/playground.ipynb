{
 "cells": [
  {
   "cell_type": "code",
   "execution_count": 1,
   "metadata": {},
   "outputs": [],
   "source": [
    "import numpy as np\n",
    "from bestbet.utils import KellyBet, ExpectedGeometricGain, ExpectedEarningsManyGames, Vig, TrueProbability"
   ]
  },
  {
   "cell_type": "code",
   "execution_count": 2,
   "metadata": {},
   "outputs": [
    {
     "name": "stdout",
     "output_type": "stream",
     "text": [
      "For Moneyline combination (-950,650), Sportsbook Vig: 4.0%\n",
      "\n",
      "ASSUMPTION: Sportsbook undervalues Team 1 by 5.0%\n",
      "\n",
      "Seed Capital: $100\n",
      "\n",
      "Recommended Bet: $32.50\n",
      "\n",
      "Probability of Success: 93.57%\n",
      "\n",
      "Expected Geometric Gain: (1.006228184667632)\n",
      "\n",
      "Expected Earnings over 20 Games: $13.22\n",
      "\n"
     ]
    }
   ],
   "source": [
    "# Bills -950, Steelers +650\n",
    "Bills = -950\n",
    "Steelers = 650\n",
    "capital = 100 # Dollars\n",
    "BillsUnderestimatedPct = 0.05\n",
    "vig = round(Vig(Bills, Steelers),2)\n",
    "print(\"For Moneyline combination (\"+str(Bills)+\",\"+str(Steelers)+\"), Sportsbook Vig: \"+str(100*vig)+\"%\\n\")\n",
    "print(\"ASSUMPTION: Sportsbook undervalues Team 1 by \"+str(100*BillsUnderestimatedPct)+\"%\\n\")\n",
    "bet = round(KellyBet(Bills, Steelers, BillsUnderestimatedPct, capital), 2)\n",
    "r = ExpectedGeometricGain(Bills, Steelers, BillsUnderestimatedPct)\n",
    "num_games = 20\n",
    "X = round(ExpectedEarningsManyGames(r, capital, num_games),2)\n",
    "p_true = round(100*TrueProbability(Bills, Steelers, BillsUnderestimatedPct),2)\n",
    "\n",
    "print(\"Seed Capital: $\"+str(capital)+\"\\n\")\n",
    "print(\"Recommended Bet: $\"+str(\"{:.2f}\".format(bet))+\"\\n\")\n",
    "print(\"Probability of Success: \"+str(p_true)+\"%\\n\")\n",
    "print(\"Expected Geometric Gain: (\"+str(r)+\")\\n\")\n",
    "print(\"Expected Earnings over \"+str(num_games)+\" Games: $\"+str(\"{:.2f}\".format(X))+\"\\n\")"
   ]
  }
 ],
 "metadata": {
  "interpreter": {
   "hash": "916dbcbb3f70747c44a77c7bcd40155683ae19c65e1c03b4aa3499c5328201f1"
  },
  "kernelspec": {
   "display_name": "Python 3.8.10 64-bit",
   "language": "python",
   "name": "python3"
  },
  "language_info": {
   "codemirror_mode": {
    "name": "ipython",
    "version": 3
   },
   "file_extension": ".py",
   "mimetype": "text/x-python",
   "name": "python",
   "nbconvert_exporter": "python",
   "pygments_lexer": "ipython3",
   "version": "3.8.10"
  },
  "orig_nbformat": 4
 },
 "nbformat": 4,
 "nbformat_minor": 2
}
